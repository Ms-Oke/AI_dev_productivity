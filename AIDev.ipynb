{
 "cells": [
  {
   "cell_type": "markdown",
   "id": "72c52cf1-1293-4fc6-bdb2-7edee2aaf5e8",
   "metadata": {},
   "source": [
    "### About Dataset\n",
    "This dataset simulates the productivity of AI developers over 500 days, capturing the subtle interaction between deep work, distractions, caffeine intake, and code quality. Designed to push the limits of machine learning, this data blends behavioral, physiological, and productivity indicators to allow for advanced predictive modeling, regression, clustering, and time-series analysis."
   ]
  },
  {
   "cell_type": "code",
   "execution_count": 8,
   "id": "2aba0096-c726-44de-b1a8-0acff57b9ac7",
   "metadata": {},
   "outputs": [],
   "source": [
    "import warnings\n",
    "import pandas as pd\n",
    "import matplotlib.pyplot as plt\n",
    "import plotly.express as px\n",
    "import seaborn as sns\n",
    "from sklearn.linear_model import LinearRegression \n",
    "from sklearn.metrics import mean_absolute_error\n",
    "from sklearn.utils.validation import check_is_fitted\n",
    "\n",
    "warnings. simplefilter(action=\"ignore\", category=FutureWarning)"
   ]
  },
  {
   "cell_type": "code",
   "execution_count": 9,
   "id": "b018c937-6d9a-492c-8ebb-9117bca8f414",
   "metadata": {},
   "outputs": [],
   "source": [
    "df = pd.read_csv(\"data/ai_dev_productivity.csv\")"
   ]
  },
  {
   "cell_type": "code",
   "execution_count": 10,
   "id": "b70bc9a9-30ec-4b2c-bf13-54992cec342f",
   "metadata": {},
   "outputs": [
    {
     "name": "stdout",
     "output_type": "stream",
     "text": [
      "<class 'pandas.core.frame.DataFrame'>\n",
      "RangeIndex: 500 entries, 0 to 499\n",
      "Data columns (total 9 columns):\n",
      " #   Column            Non-Null Count  Dtype  \n",
      "---  ------            --------------  -----  \n",
      " 0   hours_coding      500 non-null    float64\n",
      " 1   coffee_intake_mg  500 non-null    int64  \n",
      " 2   distractions      500 non-null    int64  \n",
      " 3   sleep_hours       500 non-null    float64\n",
      " 4   commits           500 non-null    int64  \n",
      " 5   bugs_reported     500 non-null    int64  \n",
      " 6   ai_usage_hours    500 non-null    float64\n",
      " 7   cognitive_load    500 non-null    float64\n",
      " 8   task_success      500 non-null    int64  \n",
      "dtypes: float64(4), int64(5)\n",
      "memory usage: 35.3 KB\n"
     ]
    }
   ],
   "source": [
    "df.info()"
   ]
  },
  {
   "cell_type": "code",
   "execution_count": 11,
   "id": "a35fac5a-79d3-40e9-ad02-8f5dbb660ce0",
   "metadata": {},
   "outputs": [
    {
     "data": {
      "text/html": [
       "<div>\n",
       "<style scoped>\n",
       "    .dataframe tbody tr th:only-of-type {\n",
       "        vertical-align: middle;\n",
       "    }\n",
       "\n",
       "    .dataframe tbody tr th {\n",
       "        vertical-align: top;\n",
       "    }\n",
       "\n",
       "    .dataframe thead th {\n",
       "        text-align: right;\n",
       "    }\n",
       "</style>\n",
       "<table border=\"1\" class=\"dataframe\">\n",
       "  <thead>\n",
       "    <tr style=\"text-align: right;\">\n",
       "      <th></th>\n",
       "      <th>hours_coding</th>\n",
       "      <th>coffee_intake_mg</th>\n",
       "      <th>distractions</th>\n",
       "      <th>sleep_hours</th>\n",
       "      <th>commits</th>\n",
       "      <th>bugs_reported</th>\n",
       "      <th>ai_usage_hours</th>\n",
       "      <th>cognitive_load</th>\n",
       "      <th>task_success</th>\n",
       "    </tr>\n",
       "  </thead>\n",
       "  <tbody>\n",
       "    <tr>\n",
       "      <th>0</th>\n",
       "      <td>5.99</td>\n",
       "      <td>600</td>\n",
       "      <td>1</td>\n",
       "      <td>5.8</td>\n",
       "      <td>2</td>\n",
       "      <td>1</td>\n",
       "      <td>0.71</td>\n",
       "      <td>5.4</td>\n",
       "      <td>1</td>\n",
       "    </tr>\n",
       "    <tr>\n",
       "      <th>1</th>\n",
       "      <td>4.72</td>\n",
       "      <td>568</td>\n",
       "      <td>2</td>\n",
       "      <td>6.9</td>\n",
       "      <td>5</td>\n",
       "      <td>3</td>\n",
       "      <td>1.75</td>\n",
       "      <td>4.7</td>\n",
       "      <td>1</td>\n",
       "    </tr>\n",
       "    <tr>\n",
       "      <th>2</th>\n",
       "      <td>6.30</td>\n",
       "      <td>560</td>\n",
       "      <td>1</td>\n",
       "      <td>8.9</td>\n",
       "      <td>2</td>\n",
       "      <td>0</td>\n",
       "      <td>2.27</td>\n",
       "      <td>2.2</td>\n",
       "      <td>1</td>\n",
       "    </tr>\n",
       "    <tr>\n",
       "      <th>3</th>\n",
       "      <td>8.05</td>\n",
       "      <td>600</td>\n",
       "      <td>7</td>\n",
       "      <td>6.3</td>\n",
       "      <td>9</td>\n",
       "      <td>5</td>\n",
       "      <td>1.40</td>\n",
       "      <td>5.9</td>\n",
       "      <td>0</td>\n",
       "    </tr>\n",
       "    <tr>\n",
       "      <th>4</th>\n",
       "      <td>4.53</td>\n",
       "      <td>421</td>\n",
       "      <td>6</td>\n",
       "      <td>6.9</td>\n",
       "      <td>4</td>\n",
       "      <td>0</td>\n",
       "      <td>1.26</td>\n",
       "      <td>6.3</td>\n",
       "      <td>1</td>\n",
       "    </tr>\n",
       "    <tr>\n",
       "      <th>5</th>\n",
       "      <td>4.53</td>\n",
       "      <td>429</td>\n",
       "      <td>1</td>\n",
       "      <td>7.1</td>\n",
       "      <td>5</td>\n",
       "      <td>0</td>\n",
       "      <td>3.06</td>\n",
       "      <td>3.9</td>\n",
       "      <td>1</td>\n",
       "    </tr>\n",
       "    <tr>\n",
       "      <th>6</th>\n",
       "      <td>8.16</td>\n",
       "      <td>600</td>\n",
       "      <td>1</td>\n",
       "      <td>8.3</td>\n",
       "      <td>6</td>\n",
       "      <td>0</td>\n",
       "      <td>0.30</td>\n",
       "      <td>2.2</td>\n",
       "      <td>1</td>\n",
       "    </tr>\n",
       "    <tr>\n",
       "      <th>7</th>\n",
       "      <td>6.53</td>\n",
       "      <td>600</td>\n",
       "      <td>4</td>\n",
       "      <td>3.6</td>\n",
       "      <td>9</td>\n",
       "      <td>3</td>\n",
       "      <td>1.47</td>\n",
       "      <td>9.1</td>\n",
       "      <td>0</td>\n",
       "    </tr>\n",
       "    <tr>\n",
       "      <th>8</th>\n",
       "      <td>4.06</td>\n",
       "      <td>409</td>\n",
       "      <td>5</td>\n",
       "      <td>6.1</td>\n",
       "      <td>6</td>\n",
       "      <td>2</td>\n",
       "      <td>2.43</td>\n",
       "      <td>7.0</td>\n",
       "      <td>0</td>\n",
       "    </tr>\n",
       "    <tr>\n",
       "      <th>9</th>\n",
       "      <td>6.09</td>\n",
       "      <td>567</td>\n",
       "      <td>5</td>\n",
       "      <td>7.3</td>\n",
       "      <td>7</td>\n",
       "      <td>0</td>\n",
       "      <td>2.11</td>\n",
       "      <td>5.1</td>\n",
       "      <td>1</td>\n",
       "    </tr>\n",
       "  </tbody>\n",
       "</table>\n",
       "</div>"
      ],
      "text/plain": [
       "   hours_coding  coffee_intake_mg  distractions  sleep_hours  commits  \\\n",
       "0          5.99               600             1          5.8        2   \n",
       "1          4.72               568             2          6.9        5   \n",
       "2          6.30               560             1          8.9        2   \n",
       "3          8.05               600             7          6.3        9   \n",
       "4          4.53               421             6          6.9        4   \n",
       "5          4.53               429             1          7.1        5   \n",
       "6          8.16               600             1          8.3        6   \n",
       "7          6.53               600             4          3.6        9   \n",
       "8          4.06               409             5          6.1        6   \n",
       "9          6.09               567             5          7.3        7   \n",
       "\n",
       "   bugs_reported  ai_usage_hours  cognitive_load  task_success  \n",
       "0              1            0.71             5.4             1  \n",
       "1              3            1.75             4.7             1  \n",
       "2              0            2.27             2.2             1  \n",
       "3              5            1.40             5.9             0  \n",
       "4              0            1.26             6.3             1  \n",
       "5              0            3.06             3.9             1  \n",
       "6              0            0.30             2.2             1  \n",
       "7              3            1.47             9.1             0  \n",
       "8              2            2.43             7.0             0  \n",
       "9              0            2.11             5.1             1  "
      ]
     },
     "execution_count": 11,
     "metadata": {},
     "output_type": "execute_result"
    }
   ],
   "source": [
    "df.head(10)"
   ]
  },
  {
   "cell_type": "code",
   "execution_count": 12,
   "id": "89f0ea54-c60b-497e-b94e-62cfcec8c322",
   "metadata": {},
   "outputs": [
    {
     "data": {
      "text/plain": [
       "-0.10430255899158983"
      ]
     },
     "execution_count": 12,
     "metadata": {},
     "output_type": "execute_result"
    }
   ],
   "source": [
    "graph = df[\"distractions\"].corr(df[\"task_success\"])\n",
    "graph"
   ]
  },
  {
   "cell_type": "code",
   "execution_count": 13,
   "id": "711ff9ee-fbd9-4a7a-a9d1-3f943266cbe4",
   "metadata": {},
   "outputs": [
    {
     "data": {
      "image/png": "[encoded data removed]",
      "text/plain": [
       "<Figure size 601.361x500 with 1 Axes>"
      ]
     },
     "metadata": {},
     "output_type": "display_data"
    }
   ],
   "source": [
    "sns.catplot(data=df, x =\"distractions\" , hue =\"task_success\", kind = \"count\");"
   ]
  },
  {
   "cell_type": "code",
   "execution_count": 14,
   "id": "f27fbb0b-37a1-4bec-8467-1942cd39828d",
   "metadata": {
    "scrolled": true
   },
   "outputs": [
    {
     "data": {
      "text/html": [
       "<div>\n",
       "<style scoped>\n",
       "    .dataframe tbody tr th:only-of-type {\n",
       "        vertical-align: middle;\n",
       "    }\n",
       "\n",
       "    .dataframe tbody tr th {\n",
       "        vertical-align: top;\n",
       "    }\n",
       "\n",
       "    .dataframe thead th {\n",
       "        text-align: right;\n",
       "    }\n",
       "</style>\n",
       "<table border=\"1\" class=\"dataframe\">\n",
       "  <thead>\n",
       "    <tr style=\"text-align: right;\">\n",
       "      <th></th>\n",
       "      <th>distractions</th>\n",
       "      <th>count</th>\n",
       "      <th>percentages</th>\n",
       "    </tr>\n",
       "  </thead>\n",
       "  <tbody>\n",
       "    <tr>\n",
       "      <th>0</th>\n",
       "      <td>2</td>\n",
       "      <td>117</td>\n",
       "      <td>23.4</td>\n",
       "    </tr>\n",
       "    <tr>\n",
       "      <th>1</th>\n",
       "      <td>3</td>\n",
       "      <td>112</td>\n",
       "      <td>22.4</td>\n",
       "    </tr>\n",
       "    <tr>\n",
       "      <th>2</th>\n",
       "      <td>1</td>\n",
       "      <td>81</td>\n",
       "      <td>16.2</td>\n",
       "    </tr>\n",
       "    <tr>\n",
       "      <th>3</th>\n",
       "      <td>4</td>\n",
       "      <td>81</td>\n",
       "      <td>16.2</td>\n",
       "    </tr>\n",
       "    <tr>\n",
       "      <th>4</th>\n",
       "      <td>5</td>\n",
       "      <td>45</td>\n",
       "      <td>9.0</td>\n",
       "    </tr>\n",
       "    <tr>\n",
       "      <th>5</th>\n",
       "      <td>6</td>\n",
       "      <td>28</td>\n",
       "      <td>5.6</td>\n",
       "    </tr>\n",
       "    <tr>\n",
       "      <th>6</th>\n",
       "      <td>0</td>\n",
       "      <td>19</td>\n",
       "      <td>3.8</td>\n",
       "    </tr>\n",
       "    <tr>\n",
       "      <th>7</th>\n",
       "      <td>7</td>\n",
       "      <td>16</td>\n",
       "      <td>3.2</td>\n",
       "    </tr>\n",
       "    <tr>\n",
       "      <th>8</th>\n",
       "      <td>8</td>\n",
       "      <td>1</td>\n",
       "      <td>0.2</td>\n",
       "    </tr>\n",
       "  </tbody>\n",
       "</table>\n",
       "</div>"
      ],
      "text/plain": [
       "   distractions  count  percentages\n",
       "0             2    117         23.4\n",
       "1             3    112         22.4\n",
       "2             1     81         16.2\n",
       "3             4     81         16.2\n",
       "4             5     45          9.0\n",
       "5             6     28          5.6\n",
       "6             0     19          3.8\n",
       "7             7     16          3.2\n",
       "8             8      1          0.2"
      ]
     },
     "execution_count": 14,
     "metadata": {},
     "output_type": "execute_result"
    }
   ],
   "source": [
    "df_num = df[\"distractions\"].value_counts().reset_index()\n",
    "df_num[\"percentages\"] = df_num[\"count\"]/500 * 100\n",
    "df_num"
   ]
  },
  {
   "cell_type": "markdown",
   "id": "d137ff70-db4b-4597-8a79-552e71cce60a",
   "metadata": {},
   "source": [
    "### Insights from the plot\n",
    " The number of people with no distractions are very few, indicating that in an average workspace, it's hard not to find distractions.\n",
    " + 78.2% of developers experience at least 1-4 distractions a day.\n",
    " + Less than 4% of AI developers have 0 distractions a day."
   ]
  },
  {
   "cell_type": "code",
   "execution_count": 16,
   "id": "a88b1f0f-9bb8-45d5-a105-8554b4399c7f",
   "metadata": {},
   "outputs": [
    {
     "data": {
      "image/png": "[encoded data removed]",
      "text/plain": [
       "<Figure size 640x480 with 1 Axes>"
      ]
     },
     "metadata": {},
     "output_type": "display_data"
    }
   ],
   "source": [
    "plt.hist(df[\"hours_coding\"]);"
   ]
  },
  {
   "cell_type": "code",
   "execution_count": 17,
   "id": "063ef823-2b12-416b-a6fc-4406bf2764f2",
   "metadata": {},
   "outputs": [
    {
     "data": {
      "text/html": [
       "<div>\n",
       "<style scoped>\n",
       "    .dataframe tbody tr th:only-of-type {\n",
       "        vertical-align: middle;\n",
       "    }\n",
       "\n",
       "    .dataframe tbody tr th {\n",
       "        vertical-align: top;\n",
       "    }\n",
       "\n",
       "    .dataframe thead th {\n",
       "        text-align: right;\n",
       "    }\n",
       "</style>\n",
       "<table border=\"1\" class=\"dataframe\">\n",
       "  <thead>\n",
       "    <tr style=\"text-align: right;\">\n",
       "      <th></th>\n",
       "      <th>hours_coding</th>\n",
       "      <th>coffee_intake_mg</th>\n",
       "      <th>distractions</th>\n",
       "      <th>sleep_hours</th>\n",
       "      <th>commits</th>\n",
       "      <th>bugs_reported</th>\n",
       "      <th>ai_usage_hours</th>\n",
       "      <th>cognitive_load</th>\n",
       "      <th>task_success</th>\n",
       "    </tr>\n",
       "  </thead>\n",
       "  <tbody>\n",
       "    <tr>\n",
       "      <th>count</th>\n",
       "      <td>500.000000</td>\n",
       "      <td>500.000000</td>\n",
       "      <td>500.000000</td>\n",
       "      <td>500.000000</td>\n",
       "      <td>500.00000</td>\n",
       "      <td>500.000000</td>\n",
       "      <td>500.000000</td>\n",
       "      <td>500.000000</td>\n",
       "      <td>500.000000</td>\n",
       "    </tr>\n",
       "    <tr>\n",
       "      <th>mean</th>\n",
       "      <td>5.015600</td>\n",
       "      <td>463.192000</td>\n",
       "      <td>2.976000</td>\n",
       "      <td>6.975800</td>\n",
       "      <td>4.60800</td>\n",
       "      <td>0.858000</td>\n",
       "      <td>1.510920</td>\n",
       "      <td>4.498200</td>\n",
       "      <td>0.606000</td>\n",
       "    </tr>\n",
       "    <tr>\n",
       "      <th>std</th>\n",
       "      <td>1.947253</td>\n",
       "      <td>142.334991</td>\n",
       "      <td>1.678409</td>\n",
       "      <td>1.455965</td>\n",
       "      <td>2.70499</td>\n",
       "      <td>1.102846</td>\n",
       "      <td>1.085557</td>\n",
       "      <td>1.868861</td>\n",
       "      <td>0.489124</td>\n",
       "    </tr>\n",
       "    <tr>\n",
       "      <th>min</th>\n",
       "      <td>0.000000</td>\n",
       "      <td>6.000000</td>\n",
       "      <td>0.000000</td>\n",
       "      <td>3.000000</td>\n",
       "      <td>0.00000</td>\n",
       "      <td>0.000000</td>\n",
       "      <td>0.000000</td>\n",
       "      <td>1.000000</td>\n",
       "      <td>0.000000</td>\n",
       "    </tr>\n",
       "    <tr>\n",
       "      <th>25%</th>\n",
       "      <td>3.600000</td>\n",
       "      <td>369.500000</td>\n",
       "      <td>2.000000</td>\n",
       "      <td>6.100000</td>\n",
       "      <td>3.00000</td>\n",
       "      <td>0.000000</td>\n",
       "      <td>0.697500</td>\n",
       "      <td>3.175000</td>\n",
       "      <td>0.000000</td>\n",
       "    </tr>\n",
       "    <tr>\n",
       "      <th>50%</th>\n",
       "      <td>5.030000</td>\n",
       "      <td>500.500000</td>\n",
       "      <td>3.000000</td>\n",
       "      <td>6.950000</td>\n",
       "      <td>5.00000</td>\n",
       "      <td>0.000000</td>\n",
       "      <td>1.260000</td>\n",
       "      <td>4.400000</td>\n",
       "      <td>1.000000</td>\n",
       "    </tr>\n",
       "    <tr>\n",
       "      <th>75%</th>\n",
       "      <td>6.275000</td>\n",
       "      <td>600.000000</td>\n",
       "      <td>4.000000</td>\n",
       "      <td>7.900000</td>\n",
       "      <td>6.00000</td>\n",
       "      <td>2.000000</td>\n",
       "      <td>2.070000</td>\n",
       "      <td>5.800000</td>\n",
       "      <td>1.000000</td>\n",
       "    </tr>\n",
       "    <tr>\n",
       "      <th>max</th>\n",
       "      <td>12.000000</td>\n",
       "      <td>600.000000</td>\n",
       "      <td>8.000000</td>\n",
       "      <td>10.000000</td>\n",
       "      <td>13.00000</td>\n",
       "      <td>5.000000</td>\n",
       "      <td>6.360000</td>\n",
       "      <td>10.000000</td>\n",
       "      <td>1.000000</td>\n",
       "    </tr>\n",
       "  </tbody>\n",
       "</table>\n",
       "</div>"
      ],
      "text/plain": [
       "       hours_coding  coffee_intake_mg  distractions  sleep_hours    commits  \\\n",
       "count    500.000000        500.000000    500.000000   500.000000  500.00000   \n",
       "mean       5.015600        463.192000      2.976000     6.975800    4.60800   \n",
       "std        1.947253        142.334991      1.678409     1.455965    2.70499   \n",
       "min        0.000000          6.000000      0.000000     3.000000    0.00000   \n",
       "25%        3.600000        369.500000      2.000000     6.100000    3.00000   \n",
       "50%        5.030000        500.500000      3.000000     6.950000    5.00000   \n",
       "75%        6.275000        600.000000      4.000000     7.900000    6.00000   \n",
       "max       12.000000        600.000000      8.000000    10.000000   13.00000   \n",
       "\n",
       "       bugs_reported  ai_usage_hours  cognitive_load  task_success  \n",
       "count     500.000000      500.000000      500.000000    500.000000  \n",
       "mean        0.858000        1.510920        4.498200      0.606000  \n",
       "std         1.102846        1.085557        1.868861      0.489124  \n",
       "min         0.000000        0.000000        1.000000      0.000000  \n",
       "25%         0.000000        0.697500        3.175000      0.000000  \n",
       "50%         0.000000        1.260000        4.400000      1.000000  \n",
       "75%         2.000000        2.070000        5.800000      1.000000  \n",
       "max         5.000000        6.360000       10.000000      1.000000  "
      ]
     },
     "execution_count": 17,
     "metadata": {},
     "output_type": "execute_result"
    }
   ],
   "source": [
    "df.describe()"
   ]
  },
  {
   "cell_type": "code",
   "execution_count": 18,
   "id": "48d93b09-b531-48f3-a359-bd332f915af3",
   "metadata": {},
   "outputs": [
    {
     "name": "stdout",
     "output_type": "stream",
     "text": [
      "2\n"
     ]
    }
   ],
   "source": [
    "zero_hours_coding = df[df[\"hours_coding\"] == 0]\n",
    "print( len(zero_hours_coding))"
   ]
  },
  {
   "cell_type": "markdown",
   "id": "bb42cb5c-a59f-42f2-844a-d790fa9e8577",
   "metadata": {},
   "source": [
    "####  Insight from the  Histogram Displaying Number of hours coding\n",
    "\n",
    "+ Developers spend an average of 5 hours coding each day."
   ]
  },
  {
   "cell_type": "code",
   "execution_count": 44,
   "id": "87d72e6c-f3da-46b3-90af-0c26b205fc0a",
   "metadata": {},
   "outputs": [
    {
     "data": {
      "image/png": "[encoded data removed]",
      "text/plain": [
       "<Figure size 640x480 with 1 Axes>"
      ]
     },
     "metadata": {},
     "output_type": "display_data"
    }
   ],
   "source": [
    "plt.hist(df[\"ai_usage_hours\"], bins=10, edgecolor='black');"
   ]
  },
  {
   "cell_type": "code",
   "execution_count": 21,
   "id": "eee991ec-2b67-48b2-aa3d-256165b2ae87",
   "metadata": {},
   "outputs": [
    {
     "data": {
      "image/png": "[encoded data removed]",
      "text/plain": [
       "<Figure size 640x480 with 1 Axes>"
      ]
     },
     "metadata": {},
     "output_type": "display_data"
    }
   ],
   "source": [
    "plt.hist(df[\"hours_coding\"], bins=10, edgecolor='black' )\n",
    "plt.hist(df[\"ai_usage_hours\"], bins=10, edgecolor='black', alpha=0.5)\n",
    "plt.xlabel(\"Hours Coding\")\n",
    "plt.ylabel(\"Frequency\");"
   ]
  },
  {
   "cell_type": "code",
   "execution_count": 22,
   "id": "2f0b139a-26fa-46c3-bd94-b770e893b23e",
   "metadata": {},
   "outputs": [
    {
     "data": {
      "image/png": "[encoded data removed]",
      "text/plain": [
       "<Figure size 640x480 with 1 Axes>"
      ]
     },
     "metadata": {},
     "output_type": "display_data"
    }
   ],
   "source": [
    "plt.scatter(x=df[\"hours_coding\"], y=df[\"ai_usage_hours\"])\n",
    "plt.xlabel(\"Hours Coding\")\n",
    "plt.ylabel(\"AI Usage\")\n",
    "plt.title(\"Plot of AI Usage and Hours Coding\");"
   ]
  },
  {
   "cell_type": "code",
   "execution_count": 23,
   "id": "b5c03e14-70e1-49c7-a77e-0c73095e33f7",
   "metadata": {},
   "outputs": [],
   "source": [
    "# Rounding up \"cognitive_load\" column\n",
    "df[\"cognitive_load\"] = df[\"cognitive_load\"].round()"
   ]
  },
  {
   "cell_type": "code",
   "execution_count": 24,
   "id": "b957485c-53fe-4388-be40-643869a9bb2c",
   "metadata": {},
   "outputs": [
    {
     "data": {
      "image/png": "[encoded data removed]",
      "text/plain": [
       "<Figure size 601.361x500 with 1 Axes>"
      ]
     },
     "metadata": {},
     "output_type": "display_data"
    }
   ],
   "source": [
    "sns.catplot(data=df, x=\"cognitive_load\", hue=\"task_success\", kind=\"count\");"
   ]
  },
  {
   "cell_type": "code",
   "execution_count": null,
   "id": "81920a20-d3a5-4521-a3c3-ec32229f1fc8",
   "metadata": {},
   "outputs": [],
   "source": []
  }
 ],
 "metadata": {
  "kernelspec": {
   "display_name": "base",
   "language": "python",
   "name": "python3"
  },
  "language_info": {
   "codemirror_mode": {
    "name": "ipython",
    "version": 3
   },
   "file_extension": ".py",
   "mimetype": "text/x-python",
   "name": "python",
   "nbconvert_exporter": "python",
   "pygments_lexer": "ipython3",
   "version": "3.12.7"
  }
 },
 "nbformat": 4,
 "nbformat_minor": 5
}
